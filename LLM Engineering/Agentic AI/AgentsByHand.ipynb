{
  "nbformat": 4,
  "nbformat_minor": 0,
  "metadata": {
    "colab": {
      "provenance": [],
      "authorship_tag": "ABX9TyMulXsEiLqkQQdC0tg0YHre",
      "include_colab_link": true
    },
    "kernelspec": {
      "name": "python3",
      "display_name": "Python 3"
    },
    "language_info": {
      "name": "python"
    }
  },
  "cells": [
    {
      "cell_type": "markdown",
      "metadata": {
        "id": "view-in-github",
        "colab_type": "text"
      },
      "source": [
        "<a href=\"https://colab.research.google.com/github/aaronmat1905/the-tokenized-tech/blob/main/%5CLLM%20Engineering%5CAgentic%20AI%5CAgentsByHand.ipynb\" target=\"_parent\"><img src=\"https://colab.research.google.com/assets/colab-badge.svg\" alt=\"Open In Colab\"/></a>"
      ]
    },
    {
      "cell_type": "markdown",
      "source": [
        "**The Tokenized Tech**\\\n",
        "**Article 1:** Agents By Hand"
      ],
      "metadata": {
        "id": "Nzcw5_MXhgwu"
      }
    },
    {
      "cell_type": "code",
      "source": [
        "# !pip install -q dotenv"
      ],
      "metadata": {
        "id": "oaaL_kkaLfcI"
      },
      "execution_count": 3,
      "outputs": []
    },
    {
      "cell_type": "code",
      "execution_count": 2,
      "metadata": {
        "id": "wT4WCeG-J2jb"
      },
      "outputs": [],
      "source": [
        "# Code for Google-colab platforms\n",
        "from google.colab import userdata\n",
        "api_key = userdata.get(\"GeminiAPI\")"
      ]
    },
    {
      "cell_type": "markdown",
      "source": [
        "**Gemini Client** \\\n",
        "*Custom Implementation*"
      ],
      "metadata": {
        "id": "nBhHnq5XLGUx"
      }
    },
    {
      "cell_type": "code",
      "source": [
        "# Custom Gemini Client:\n",
        "import os\n",
        "import requests\n",
        "\n",
        "# from dotenv import load_env\n",
        "# api_key = os.getenviron(\"GEMINI_API_KEY\")\n",
        "\n",
        "class GeminiClient:\n",
        "\tdef __init__(self, api_key: str):\n",
        "\t\tself.api_key = api_key\n",
        "\t\tself.endpoint = \"https://generativelanguage.googleapis.com/v1beta/models/gemini-2.5-flash:generateContent\"\n",
        "\t\tself.headers = {\n",
        "\t\t\t\"x-goog-api-key\": self.api_key,\n",
        "\t\t\t\"Content-Type\": \"application/json\"\n",
        "\t\t\t}\n",
        "\tdef generate_content(self, prompt) -> str:\n",
        "\t\tpayload = {\n",
        "\t\t\t\"contents\": [\n",
        "\t\t\t\t\t{ \"parts\":[{\"text\":prompt}]}\n",
        "\t\t\t\t]\n",
        "\t\t}\n",
        "\t\tresponse = requests.post(self.endpoint, headers= self.headers, json = payload)\n",
        "\t\tif response.status_code ==200:\n",
        "\t\t\tdata = response.json()\n",
        "\t\t\ttry:\n",
        "\t\t\t\treturn data['candidates'][0]['content']['parts'][0]['text']\n",
        "\t\t\texcept (KeyError, IndexError):\n",
        "\t\t\t\treturn \"No response text found\"\n",
        "\t\telse:\n",
        "\t\t\treturn f\"Error: {response.status_code} - {response.text}\""
      ],
      "metadata": {
        "id": "MAEKdNZmK7wB"
      },
      "execution_count": 4,
      "outputs": []
    },
    {
      "cell_type": "code",
      "source": [
        "# Useage of our custom client:\n",
        "client = GeminiClient(api_key)\n",
        "# Sample Prompt:\n",
        "prompt = \"Explain what are AI Agents in a sentence.\"\n",
        "response = client.generate_content(prompt)\n",
        "print(f\"Response: {response}\")"
      ],
      "metadata": {
        "colab": {
          "base_uri": "https://localhost:8080/"
        },
        "id": "MxoWNaasLncS",
        "outputId": "ac3bb430-ee85-471c-850b-3f0fefbccc75"
      },
      "execution_count": 5,
      "outputs": [
        {
          "output_type": "stream",
          "name": "stdout",
          "text": [
            "Response: AI Agents are autonomous systems that perceive their environment, make decisions, and act to achieve specific goals.\n"
          ]
        }
      ]
    },
    {
      "cell_type": "markdown",
      "source": [
        "**Defining Our Tools**"
      ],
      "metadata": {
        "id": "8MXH66onLtgi"
      }
    },
    {
      "cell_type": "code",
      "source": [
        "# Tool Registry:\n",
        "class Tool:\n",
        "  def __init__(self):\n",
        "    self.tools = {}\n",
        "  def registerTool(self, name=None, description=None):\n",
        "    \"Records a Tool\"\n",
        "    def decorator(func):\n",
        "      tool_name = name or func.__name__\n",
        "      self.tools[tool_name] = {\n",
        "          \"function_name\":func,\n",
        "          \"description\":description or func.__doc__\n",
        "      }\n",
        "      return func\n",
        "    return decorator\n",
        "\n",
        "  def call(self, tool_name:str, *args,**kwargs):\n",
        "    if tool_name not in self.tools:\n",
        "      raise ValueError(f\"Tool '{tool_name}' does not exist.\")\n",
        "    return self.tools[tool_name][\"function\"](*args, **kwargs)\n",
        "  def list_tools(self):\n",
        "    return {name:meta[\"description\"] for name, meta in self.tools.items()}"
      ],
      "metadata": {
        "id": "ywzL29QtLwsO"
      },
      "execution_count": 9,
      "outputs": []
    },
    {
      "cell_type": "code",
      "source": [
        "# Creating the Tool Registry:\n",
        "toolFamily = Tool()"
      ],
      "metadata": {
        "id": "K4VZ9jl7hElp"
      },
      "execution_count": 10,
      "outputs": []
    },
    {
      "cell_type": "markdown",
      "source": [
        "**Problem Statement:** Create a Financial Agent"
      ],
      "metadata": {
        "id": "5iFbC_hhhLnK"
      }
    },
    {
      "cell_type": "markdown",
      "source": [
        "We are going to implement the given 5 functions for our finance agent\n",
        "\n",
        "\\\n",
        "\n",
        "**EMI**\\\n",
        "`calculate_emi(principal, annual_rate, tenure_years)`\n",
        "\n",
        "**Purpose:** Calculates monthly EMI for a loan.\n",
        "**Why it’s useful:** Loan comparison, affordability checks, credit advisory.\n",
        "\n",
        "---\n",
        "\n",
        "**CAGR**\\\n",
        "`calculate_cagr(initial_value, final_value, years)`\n",
        "\n",
        "**Purpose:** Computes Compound Annual Growth Rate for an investment.\n",
        "**Why it’s useful:** Investment performance metric used in wealth advisory, fintech portfolios.\n",
        "\n",
        "---\n",
        "**ROI**\\\n",
        "`calculate_roi(cost, return_value)`\n",
        "\n",
        "**Purpose:** Calculates Return on Investment (ROI) in percentage.\n",
        "**Why it’s useful:** Quick performance check for any business or personal financial decision.\n",
        "\n",
        "---\n",
        "**Credit Utilization**\\\n",
        "`credit_utilization(total_limit, current_balance)`\n",
        "\n",
        "**Purpose:** Computes credit utilization ratio.\n",
        "**Why it’s useful:** Important metric in credit scoring (e.g., 30% threshold rule); useful for credit card users and financial health monitoring.\n",
        "\n",
        "---\n",
        "**Retirement Goal Planner**\\\n",
        "\n",
        "`retirement_goal_planner(current_age, retirement_age, desired_monthly_income, annual_rate)`\n",
        "\n",
        "**Purpose:** Estimates how much one needs to save monthly to reach retirement goals.\n",
        "**Why it’s useful:** Long-term planning tool—great for banks, insurers, or robo-advisors.\n",
        "\n"
      ],
      "metadata": {
        "id": "JXHJ-PRMi1DD"
      }
    },
    {
      "cell_type": "code",
      "source": [
        "# @toolFamily.registerTool()\n",
        "# def sip_returns(monthly_investment: float, years:int,annual_rate: float)-> str:\n",
        "#   n = years * 12\n",
        "#   r = annual_rate / (12*100)\n",
        "#   future_value = monthly_investment * (((1 + r)**n - 1) / r) * (1 + r)\n",
        "#   return f\"Future Value of SIP: ₹{round(future_value, 2)}\""
      ],
      "metadata": {
        "id": "hX5shEVThREy"
      },
      "execution_count": null,
      "outputs": []
    }
  ]
}
