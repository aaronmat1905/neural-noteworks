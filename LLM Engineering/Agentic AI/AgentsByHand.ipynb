{
  "nbformat": 4,
  "nbformat_minor": 0,
  "metadata": {
    "colab": {
      "provenance": [],
      "authorship_tag": "ABX9TyODOXxqz3tbqJqZVoCsMZ68",
      "include_colab_link": true
    },
    "kernelspec": {
      "name": "python3",
      "display_name": "Python 3"
    },
    "language_info": {
      "name": "python"
    }
  },
  "cells": [
    {
      "cell_type": "markdown",
      "metadata": {
        "id": "view-in-github",
        "colab_type": "text"
      },
      "source": [
        "<a href=\"https://colab.research.google.com/github/aaronmat1905/the-tokenized-tech/blob/main/LLM%20Engineering/Agentic%20AI/AgentsByHand.ipynb\" target=\"_parent\"><img src=\"https://colab.research.google.com/assets/colab-badge.svg\" alt=\"Open In Colab\"/></a>"
      ]
    },
    {
      "cell_type": "markdown",
      "source": [
        "**The Tokenized Tech**\\\n",
        "Intro to Agents, the old fashioned way\n"
      ],
      "metadata": {
        "id": "zccSYQJxEmzT"
      }
    },
    {
      "cell_type": "markdown",
      "source": [
        "## Configure Imports and API Credentials"
      ],
      "metadata": {
        "id": "yg3jHlxiU6CE"
      }
    },
    {
      "cell_type": "code",
      "source": [
        "import os\n",
        "import requests"
      ],
      "metadata": {
        "id": "qcarByV4VCdi"
      },
      "execution_count": 1,
      "outputs": []
    },
    {
      "cell_type": "code",
      "execution_count": 2,
      "metadata": {
        "id": "wT4WCeG-J2jb"
      },
      "outputs": [],
      "source": [
        "# --- For Google Colab Users ---\n",
        "from google.colab import userdata\n",
        "\n",
        "# Retrieve Gemini API key securely from Colab's userdata storage\n",
        "api_key = userdata.get(\"GeminiAPI\") or \"REPLACE-YOUR-GEMINI-API-KEY-HERE\"\n",
        "\n",
        "# --- For Local Development Environments ---\n",
        "# Uncomment the lines below when running outside Colab\n",
        "\n",
        "# import os\n",
        "# from dotenv import load_dotenv\n",
        "# load_dotenv()  # Load environment variables from a .env file\n",
        "# api_key = os.getenv(\"GEMINI_API_KEY\")"
      ]
    },
    {
      "cell_type": "markdown",
      "source": [
        "## Initializing the **Gemini Client**\n",
        "*Custom Implementation*"
      ],
      "metadata": {
        "id": "nBhHnq5XLGUx"
      }
    },
    {
      "cell_type": "code",
      "source": [
        "class GeminiClient:\n",
        "\tdef __init__(self, api_key: str):\n",
        "\t\tself.api_key = api_key\n",
        "\t\tself.endpoint = \"https://generativelanguage.googleapis.com/v1beta/models/gemini-2.5-flash:generateContent\"\n",
        "\t\tself.headers = {\n",
        "\t\t\t\"x-goog-api-key\": self.api_key,\n",
        "\t\t\t\"Content-Type\": \"application/json\"\n",
        "\t\t\t}\n",
        "\tdef generate_content(self, prompt) -> str:\n",
        "\t\tpayload = {\n",
        "\t\t\t\"contents\": [\n",
        "\t\t\t\t\t{ \"parts\":[{\"text\":prompt}]}\n",
        "\t\t\t\t]\n",
        "\t\t}\n",
        "\t\tresponse = requests.post(self.endpoint, headers= self.headers, json = payload)\n",
        "\t\tif response.status_code ==200:\n",
        "\t\t\tdata = response.json()\n",
        "\t\t\ttry:\n",
        "\t\t\t\treturn data['candidates'][0]['content']['parts'][0]['text']\n",
        "\t\t\texcept (KeyError, IndexError):\n",
        "\t\t\t\treturn \"No response text found\"\n",
        "\t\telse:\n",
        "\t\t\treturn f\"Error: {response.status_code} - {response.text}\""
      ],
      "metadata": {
        "id": "MAEKdNZmK7wB"
      },
      "execution_count": 3,
      "outputs": []
    },
    {
      "cell_type": "code",
      "source": [
        "# Useage of our custom client:\n",
        "client = GeminiClient(api_key)"
      ],
      "metadata": {
        "id": "MxoWNaasLncS"
      },
      "execution_count": 4,
      "outputs": []
    },
    {
      "cell_type": "code",
      "source": [
        "# Sample Prompt:\n",
        "prompt = \"Explain what are AI Agents in a sentence.\"\n",
        "response = client.generate_content(prompt)\n",
        "print(f\"Response: {response}\")"
      ],
      "metadata": {
        "colab": {
          "base_uri": "https://localhost:8080/"
        },
        "id": "Cm9uLWPsPfeN",
        "outputId": "b5dd46ad-d06f-4929-edd0-929d3f89f944"
      },
      "execution_count": 5,
      "outputs": [
        {
          "output_type": "stream",
          "name": "stdout",
          "text": [
            "Response: AI Agents are autonomous AI programs designed to perceive their environment, make decisions, and take actions to achieve specific goals.\n"
          ]
        }
      ]
    },
    {
      "cell_type": "markdown",
      "source": [
        "## Define **Tool Registry** and associated Tools"
      ],
      "metadata": {
        "id": "1E148MGGY-IY"
      }
    },
    {
      "cell_type": "code",
      "source": [
        "# Tool Registry:\n",
        "class Tool:\n",
        "    def __init__(self):\n",
        "        self.tools = {}\n",
        "\n",
        "    def registerTool(self, name=None, description=None):\n",
        "        \"\"\"Records a Tool\"\"\"\n",
        "        def decorator(func):\n",
        "            tool_name = name or func.__name__\n",
        "            self.tools[tool_name] = {\n",
        "                \"function_name\": func,\n",
        "                \"description\": description or func.__doc__,\n",
        "                \"call\": lambda *args, **kwargs: func(*args, **kwargs)\n",
        "            }\n",
        "            return func\n",
        "        return decorator\n",
        "\n",
        "    def call(self, tool_name: str, *args, **kwargs):\n",
        "        if tool_name not in self.tools:\n",
        "            raise ValueError(f\"Tool '{tool_name}' does not exist.\")\n",
        "        return self.tools[tool_name][\"call\"](*args, **kwargs)\n",
        "\n",
        "    def list_tools(self):\n",
        "        return {name: meta[\"description\"] for name, meta in self.tools.items()}\n"
      ],
      "metadata": {
        "id": "ywzL29QtLwsO"
      },
      "execution_count": null,
      "outputs": []
    },
    {
      "cell_type": "code",
      "source": [
        "# Creating the Tool Registry:\n",
        "toolFamily = Tool()"
      ],
      "metadata": {
        "id": "K4VZ9jl7hElp"
      },
      "execution_count": null,
      "outputs": []
    },
    {
      "cell_type": "markdown",
      "source": [
        "**Problem Statement:**  Create an Agent for Personal Financial Wellness & Life Planning"
      ],
      "metadata": {
        "id": "5iFbC_hhhLnK"
      }
    },
    {
      "cell_type": "markdown",
      "source": [
        "**Emergency Fund Calculator** \\\n",
        "Figures out how much money you should save for emergencies."
      ],
      "metadata": {
        "id": "ll4LVmNKgtxN"
      }
    },
    {
      "cell_type": "code",
      "source": [
        "@toolFamily.registerTool()\n",
        "def calculate_emergency_fund_goal(monthly_expenses, job_stability, dependents):\n",
        "    \"\"\"\n",
        "    Calculate personalized emergency fund target based on life situation.\n",
        "    Args:\n",
        "        monthly_expenses (float): Monthly living expenses.\n",
        "        job_stability (str): \"stable\", \"moderate\", \"unstable\" - job security level.\n",
        "        dependents (int): Number of dependents (spouse, kids, parents).\n",
        "    Returns:\n",
        "        dict: Emergency fund recommendations and savings plan.\n",
        "    \"\"\"\n",
        "    base_months = 3\n",
        "\n",
        "    # Adjust based on job stability\n",
        "    if job_stability == \"stable\":\n",
        "        months_needed = base_months\n",
        "    elif job_stability == \"moderate\":\n",
        "        months_needed = base_months + 2\n",
        "    else:  # unstable\n",
        "        months_needed = base_months + 4\n",
        "\n",
        "    # Add buffer for dependents\n",
        "    months_needed += dependents * 0.5\n",
        "\n",
        "    target_amount = monthly_expenses * months_needed\n",
        "    monthly_savings_needed = target_amount / 12  # Build over 1 year\n",
        "\n",
        "    return {\n",
        "        \"target_amount\": round(target_amount, 2),\n",
        "        \"months_covered\": round(months_needed, 1),\n",
        "        \"monthly_savings_goal\": round(monthly_savings_needed, 2),\n",
        "        \"weekly_savings_goal\": round(monthly_savings_needed / 4, 2),\n",
        "        \"motivation\": f\"This covers {months_needed} months of expenses - you'll sleep better!\"\n",
        "    }"
      ],
      "metadata": {
        "id": "kk7JEoPHcSH2"
      },
      "execution_count": null,
      "outputs": []
    },
    {
      "cell_type": "markdown",
      "source": [
        "**Vacation Savings Planner**\\\n",
        "Purpose: Helps you save money for your next trip with weekly goals."
      ],
      "metadata": {
        "id": "BATyY4xthM4W"
      }
    },
    {
      "cell_type": "code",
      "source": [
        "@toolFamily.registerTool()\n",
        "def calculate_vacation_savings_plan(destination, trip_cost, departure_date, current_savings):\n",
        "    \"\"\"\n",
        "    Create a personalized vacation savings plan with weekly goals.\n",
        "    Args:\n",
        "        destination (str): Where you're going (for motivation).\n",
        "        trip_cost (float): Total estimated trip cost.\n",
        "        departure_date (str): When you're leaving (YYYY-MM-DD).\n",
        "        current_savings (float): Amount already saved.\n",
        "    Returns:\n",
        "        dict: Savings plan with weekly targets and motivation.\n",
        "    \"\"\"\n",
        "    from datetime import datetime\n",
        "\n",
        "    departure = datetime.strptime(departure_date, \"%Y-%m-%d\")\n",
        "    today = datetime.now()\n",
        "    days_until_trip = (departure - today).days\n",
        "    weeks_until_trip = days_until_trip / 7\n",
        "\n",
        "    amount_still_needed = trip_cost - current_savings\n",
        "\n",
        "    if weeks_until_trip <= 0:\n",
        "        return {\"error\": \"Trip date has passed or is today!\"}\n",
        "\n",
        "    weekly_savings_needed = amount_still_needed / weeks_until_trip\n",
        "\n",
        "    progress_percentage = (current_savings / trip_cost) * 100\n",
        "\n",
        "    return {\n",
        "        \"destination\": destination,\n",
        "        \"days_until_trip\": days_until_trip,\n",
        "        \"weekly_savings_needed\": round(weekly_savings_needed, 2),\n",
        "        \"daily_savings_needed\": round(weekly_savings_needed / 7, 2),\n",
        "        \"progress_percentage\": round(progress_percentage, 2),\n",
        "        \"motivation\": f\"Just ${round(weekly_savings_needed, 2)} per week until you're in {destination}!\",\n",
        "        \"coffee_equivalent\": f\"That's about {round(weekly_savings_needed / 5, 0)} coffees per week\"\n",
        "    }"
      ],
      "metadata": {
        "id": "tI5h02StcUEo"
      },
      "execution_count": null,
      "outputs": []
    },
    {
      "cell_type": "markdown",
      "source": [
        "**Buy vs Rent Analyzer**\\\n",
        "Purpose: Shows whether it's better to buy or rent a home for your situation."
      ],
      "metadata": {
        "id": "-cXCE-UthWa0"
      }
    },
    {
      "cell_type": "code",
      "source": [
        "@toolFamily.registerTool()\n",
        "def calculate_buying_vs_renting(home_price, rent_price, down_payment, years_staying, annual_home_appreciation):\n",
        "    \"\"\"\n",
        "    Compare the financial impact of buying vs renting for your situation.\n",
        "    Args:\n",
        "        home_price (float): Purchase price of the home.\n",
        "        rent_price (float): Monthly rent cost.\n",
        "        down_payment (float): Down payment amount.\n",
        "        years_staying (int): How long you plan to stay.\n",
        "        annual_home_appreciation (float): Expected annual home value growth percentage.\n",
        "    Returns:\n",
        "        dict: Detailed buy vs rent analysis with recommendation.\n",
        "    \"\"\"\n",
        "    # Buying costs\n",
        "    loan_amount = home_price - down_payment\n",
        "    monthly_mortgage = loan_amount * 0.005  # Simplified 6% rate\n",
        "    property_tax = home_price * 0.015 / 12  # 1.5% annually\n",
        "    insurance = home_price * 0.005 / 12  # 0.5% annually\n",
        "    maintenance = home_price * 0.01 / 12  # 1% annually\n",
        "\n",
        "    monthly_buying_cost = monthly_mortgage + property_tax + insurance + maintenance\n",
        "\n",
        "    # Future home value\n",
        "    future_home_value = home_price * ((1 + annual_home_appreciation/100) ** years_staying)\n",
        "\n",
        "    # Total costs over period\n",
        "    total_buying_cost = (monthly_buying_cost * years_staying * 12) + down_payment\n",
        "    total_renting_cost = rent_price * years_staying * 12\n",
        "\n",
        "    # Equity gained\n",
        "    equity_gained = future_home_value - loan_amount\n",
        "    net_buying_cost = total_buying_cost - equity_gained\n",
        "\n",
        "    savings = total_renting_cost - net_buying_cost\n",
        "\n",
        "    recommendation = \"Buy\" if savings > 0 else \"Rent\"\n",
        "\n",
        "    return {\n",
        "        \"monthly_mortgage_payment\": round(monthly_mortgage, 2),\n",
        "        \"total_monthly_ownership_cost\": round(monthly_buying_cost, 2),\n",
        "        \"monthly_rent\": rent_price,\n",
        "        \"equity_after_years\": round(equity_gained, 2),\n",
        "        \"total_savings_by_buying\": round(savings, 2),\n",
        "        \"recommendation\": recommendation,\n",
        "        \"break_even_years\": round(abs(savings) / (abs(monthly_buying_cost - rent_price) * 12), 1),\n",
        "        \"personal_advice\": f\"If you're staying {years_staying} years, {recommendation.lower()}ing saves you ${abs(round(savings, 2))}\"\n",
        "    }"
      ],
      "metadata": {
        "id": "jSu2yXDtcVoy"
      },
      "execution_count": null,
      "outputs": []
    },
    {
      "cell_type": "markdown",
      "source": [
        "**Coffee Shop Savings Calculator**\\\n",
        "Purpose: Shows how much you could save by making coffee at home instead of buying it."
      ],
      "metadata": {
        "id": "69JgtPU6l7MX"
      }
    },
    {
      "cell_type": "code",
      "source": [
        "@toolFamily.registerTool()\n",
        "def calculate_coffee_shop_savings(daily_coffee_cost, brewing_cost_per_cup, workdays_per_week):\n",
        "    \"\"\"\n",
        "    Calculate how much you could save by making coffee at home vs buying.\n",
        "    Args:\n",
        "        daily_coffee_cost (float): Cost of your daily coffee shop visit.\n",
        "        brewing_cost_per_cup (float): Cost to make coffee at home.\n",
        "        workdays_per_week (int): How many days per week you buy coffee.\n",
        "    Returns:\n",
        "        dict: Savings analysis with fun comparisons.\n",
        "    \"\"\"\n",
        "    daily_savings = daily_coffee_cost - brewing_cost_per_cup\n",
        "    weekly_savings = daily_savings * workdays_per_week\n",
        "    monthly_savings = weekly_savings * 4.33  # Average weeks per month\n",
        "    annual_savings = monthly_savings * 12\n",
        "\n",
        "    # Fun comparisons\n",
        "    netflix_subscriptions = annual_savings / 180  # ~$15/month\n",
        "    vacation_fund = annual_savings / 2000  # Decent vacation cost\n",
        "\n",
        "    return {\n",
        "        \"daily_savings\": round(daily_savings, 2),\n",
        "        \"weekly_savings\": round(weekly_savings, 2),\n",
        "        \"monthly_savings\": round(monthly_savings, 2),\n",
        "        \"annual_savings\": round(annual_savings, 2),\n",
        "        \"netflix_equivalent\": round(netflix_subscriptions, 1),\n",
        "        \"vacation_fund_portion\": round(vacation_fund, 2),\n",
        "        \"fun_fact\": f\"In 10 years, you'd save ${round(annual_savings * 10, 2)} - that's a car!\",\n",
        "        \"motivation\": f\"Skip the coffee shop {workdays_per_week} days a week = ${round(monthly_savings, 2)} extra per month\"\n",
        "    }"
      ],
      "metadata": {
        "id": "RzN4bfSEcYQH"
      },
      "execution_count": null,
      "outputs": []
    },
    {
      "cell_type": "markdown",
      "source": [
        "**Subscription Audit Tool**\\\n",
        "Purpose: Finds subscriptions you're paying for but not really using."
      ],
      "metadata": {
        "id": "V_BCFFb4mCOl"
      }
    },
    {
      "cell_type": "code",
      "source": [
        "@toolFamily.registerTool()\n",
        "def calculate_subscription_audit(subscriptions_list, monthly_usage_hours):\n",
        "    \"\"\"\n",
        "    Analyze your subscription spending and find savings opportunities.\n",
        "    Args:\n",
        "        subscriptions_list (list): List of dicts with 'name', 'cost', 'frequency' (monthly/annual).\n",
        "        monthly_usage_hours (dict): Dict with subscription names as keys, usage hours as values.\n",
        "    Returns:\n",
        "        dict: Subscription analysis with recommendations.\n",
        "    \"\"\"\n",
        "    total_monthly_cost = 0\n",
        "    underused_subs = []\n",
        "\n",
        "    for sub in subscriptions_list:\n",
        "        monthly_cost = sub['cost'] if sub['frequency'] == 'monthly' else sub['cost'] / 12\n",
        "        total_monthly_cost += monthly_cost\n",
        "\n",
        "        usage = monthly_usage_hours.get(sub['name'], 0)\n",
        "        cost_per_hour = monthly_cost / usage if usage > 0 else monthly_cost\n",
        "\n",
        "        if usage < 5:  # Less than 5 hours per month\n",
        "            underused_subs.append({\n",
        "                'name': sub['name'],\n",
        "                'monthly_cost': round(monthly_cost, 2),\n",
        "                'usage_hours': usage,\n",
        "                'cost_per_hour': round(cost_per_hour, 2)\n",
        "            })\n",
        "\n",
        "    potential_savings = sum([sub['monthly_cost'] for sub in underused_subs])\n",
        "\n",
        "    return {\n",
        "        \"total_monthly_cost\": round(total_monthly_cost, 2),\n",
        "        \"annual_cost\": round(total_monthly_cost * 12, 2),\n",
        "        \"underused_subscriptions\": underused_subs,\n",
        "        \"potential_monthly_savings\": round(potential_savings, 2),\n",
        "        \"potential_annual_savings\": round(potential_savings * 12, 2),\n",
        "        \"recommendation\": f\"Cancel {len(underused_subs)} underused subscriptions to save ${round(potential_savings, 2)}/month\",\n",
        "        \"reality_check\": f\"You're spending ${round(total_monthly_cost, 2)}/month on subscriptions - that's a car payment!\"\n",
        "    }"
      ],
      "metadata": {
        "id": "pMbhkFYhbqB8"
      },
      "execution_count": null,
      "outputs": []
    },
    {
      "cell_type": "code",
      "source": [
        "## Let us now see how these tools are registered in our system: Creating a repository of our tools:\n",
        "toolFamily.list_tools()"
      ],
      "metadata": {
        "id": "KErY3Hf2mMrn",
        "outputId": "9124b4c8-29dd-4d58-9784-03fde36e8d7b",
        "colab": {
          "base_uri": "https://localhost:8080/"
        }
      },
      "execution_count": null,
      "outputs": [
        {
          "output_type": "execute_result",
          "data": {
            "text/plain": [
              "{'calculate_emergency_fund_goal': '\\n    Calculate personalized emergency fund target based on life situation.\\n    Args:\\n        monthly_expenses (float): Monthly living expenses.\\n        job_stability (str): \"stable\", \"moderate\", \"unstable\" - job security level.\\n        dependents (int): Number of dependents (spouse, kids, parents).\\n    Returns:\\n        dict: Emergency fund recommendations and savings plan.\\n    ',\n",
              " 'calculate_vacation_savings_plan': \"\\n    Create a personalized vacation savings plan with weekly goals.\\n    Args:\\n        destination (str): Where you're going (for motivation).\\n        trip_cost (float): Total estimated trip cost.\\n        departure_date (str): When you're leaving (YYYY-MM-DD).\\n        current_savings (float): Amount already saved.\\n    Returns:\\n        dict: Savings plan with weekly targets and motivation.\\n    \",\n",
              " 'calculate_buying_vs_renting': '\\n    Compare the financial impact of buying vs renting for your situation.\\n    Args:\\n        home_price (float): Purchase price of the home.\\n        rent_price (float): Monthly rent cost.\\n        down_payment (float): Down payment amount.\\n        years_staying (int): How long you plan to stay.\\n        annual_home_appreciation (float): Expected annual home value growth percentage.\\n    Returns:\\n        dict: Detailed buy vs rent analysis with recommendation.\\n    ',\n",
              " 'calculate_coffee_shop_savings': '\\n    Calculate how much you could save by making coffee at home vs buying.\\n    Args:\\n        daily_coffee_cost (float): Cost of your daily coffee shop visit.\\n        brewing_cost_per_cup (float): Cost to make coffee at home.\\n        workdays_per_week (int): How many days per week you buy coffee.\\n    Returns:\\n        dict: Savings analysis with fun comparisons.\\n    ',\n",
              " 'calculate_subscription_audit': \"\\n    Analyze your subscription spending and find savings opportunities.\\n    Args:\\n        subscriptions_list (list): List of dicts with 'name', 'cost', 'frequency' (monthly/annual).\\n        monthly_usage_hours (dict): Dict with subscription names as keys, usage hours as values.\\n    Returns:\\n        dict: Subscription analysis with recommendations.\\n    \"}"
            ]
          },
          "metadata": {},
          "execution_count": 12
        }
      ]
    },
    {
      "cell_type": "code",
      "source": [
        "## Let us call each of the tool we have created:\n",
        "toolFamily.call('calculate_emergency_fund_goal', 3500, 'moderate', 2)"
      ],
      "metadata": {
        "id": "lNg-RruBtQKQ",
        "outputId": "d871e0f0-6c50-41c2-f871-5d9fe85ed69d",
        "colab": {
          "base_uri": "https://localhost:8080/"
        }
      },
      "execution_count": null,
      "outputs": [
        {
          "output_type": "execute_result",
          "data": {
            "text/plain": [
              "{'target_amount': 21000.0,\n",
              " 'months_covered': 6.0,\n",
              " 'monthly_savings_goal': 1750.0,\n",
              " 'weekly_savings_goal': 437.5,\n",
              " 'motivation': \"This covers 6.0 months of expenses - you'll sleep better!\"}"
            ]
          },
          "metadata": {},
          "execution_count": 13
        }
      ]
    },
    {
      "cell_type": "code",
      "source": [
        "# Vacation Savings Planner:\n",
        "toolFamily.call('calculate_vacation_savings_plan', 'Hawaii', 5000, '2025-12-15', 1200)"
      ],
      "metadata": {
        "id": "6s0C0ihtt2hV",
        "outputId": "c09f3504-a26b-44ba-f4b8-d45990c8aa1b",
        "colab": {
          "base_uri": "https://localhost:8080/"
        }
      },
      "execution_count": null,
      "outputs": [
        {
          "output_type": "execute_result",
          "data": {
            "text/plain": [
              "{'destination': 'Hawaii',\n",
              " 'days_until_trip': 146,\n",
              " 'weekly_savings_needed': 182.19,\n",
              " 'daily_savings_needed': 26.03,\n",
              " 'progress_percentage': 24.0,\n",
              " 'motivation': \"Just $182.19 per week until you're in Hawaii!\",\n",
              " 'coffee_equivalent': \"That's about 36.0 coffees per week\"}"
            ]
          },
          "metadata": {},
          "execution_count": 14
        }
      ]
    },
    {
      "cell_type": "code",
      "source": [
        "toolFamily.call('calculate_buying_vs_renting', 400000, 2500, 80000, 5, 3.5)"
      ],
      "metadata": {
        "id": "VpryzUhduBm_",
        "outputId": "c707bb54-98d2-4618-aa79-c16794b0a081",
        "colab": {
          "base_uri": "https://localhost:8080/"
        }
      },
      "execution_count": null,
      "outputs": [
        {
          "output_type": "execute_result",
          "data": {
            "text/plain": [
              "{'monthly_mortgage_payment': 1600.0,\n",
              " 'total_monthly_ownership_cost': 2600.0,\n",
              " 'monthly_rent': 2500,\n",
              " 'equity_after_years': 155074.52,\n",
              " 'total_savings_by_buying': 69074.52,\n",
              " 'recommendation': 'Buy',\n",
              " 'break_even_years': 57.6,\n",
              " 'personal_advice': \"If you're staying 5 years, buying saves you $69074.52\"}"
            ]
          },
          "metadata": {},
          "execution_count": 15
        }
      ]
    },
    {
      "cell_type": "code",
      "source": [
        "toolFamily.call('calculate_coffee_shop_savings', 5.50, 0.75, 5)"
      ],
      "metadata": {
        "id": "Xeg9_wOSuK7m",
        "outputId": "7a3ee9fc-7275-482c-a507-40be23399f81",
        "colab": {
          "base_uri": "https://localhost:8080/"
        }
      },
      "execution_count": null,
      "outputs": [
        {
          "output_type": "execute_result",
          "data": {
            "text/plain": [
              "{'daily_savings': 4.75,\n",
              " 'weekly_savings': 23.75,\n",
              " 'monthly_savings': 102.84,\n",
              " 'annual_savings': 1234.05,\n",
              " 'netflix_equivalent': 6.9,\n",
              " 'vacation_fund_portion': 0.62,\n",
              " 'fun_fact': \"In 10 years, you'd save $12340.5 - that's a car!\",\n",
              " 'motivation': 'Skip the coffee shop 5 days a week = $102.84 extra per month'}"
            ]
          },
          "metadata": {},
          "execution_count": 16
        }
      ]
    },
    {
      "cell_type": "code",
      "source": [
        "toolFamily.call('calculate_subscription_audit',\n",
        "    [\n",
        "        {'name': 'Netflix', 'cost': 15.99, 'frequency': 'monthly'},\n",
        "        {'name': 'Spotify', 'cost': 9.99, 'frequency': 'monthly'},\n",
        "        {'name': 'Adobe Creative', 'cost': 239.88, 'frequency': 'annual'}\n",
        "    ],\n",
        "    {'Netflix': 20, 'Spotify': 40, 'Adobe Creative': 2}\n",
        ")"
      ],
      "metadata": {
        "id": "YDEiJFCJuNlz",
        "outputId": "e7bdc223-fd02-41f7-b5f2-07644bd83540",
        "colab": {
          "base_uri": "https://localhost:8080/"
        }
      },
      "execution_count": null,
      "outputs": [
        {
          "output_type": "execute_result",
          "data": {
            "text/plain": [
              "{'total_monthly_cost': 45.97,\n",
              " 'annual_cost': 551.64,\n",
              " 'underused_subscriptions': [{'name': 'Adobe Creative',\n",
              "   'monthly_cost': 19.99,\n",
              "   'usage_hours': 2,\n",
              "   'cost_per_hour': 9.99}],\n",
              " 'potential_monthly_savings': 19.99,\n",
              " 'potential_annual_savings': 239.88,\n",
              " 'recommendation': 'Cancel 1 underused subscriptions to save $19.99/month',\n",
              " 'reality_check': \"You're spending $45.97/month on subscriptions - that's a car payment!\"}"
            ]
          },
          "metadata": {},
          "execution_count": 17
        }
      ]
    },
    {
      "cell_type": "markdown",
      "source": [
        "**Thought-Action-Observation** Cycle"
      ],
      "metadata": {
        "id": "DBjX-0-ozIAq"
      }
    },
    {
      "cell_type": "markdown",
      "source": [
        "**Approach**:\\\n",
        "Every Agent works in a Thought-Action-Observation Cycle.\n",
        "\n",
        "**Thought**: The Agent first reads the Query and plans the perfect set of steps that needs to be executed in order to get the query's output.\n",
        "\n",
        "Here, We try to adopt a prompt-engineering approach, where we specify the list of tools that would be used for our project. The LLM would read our query and list the most appropriate tool call/s to get the output."
      ],
      "metadata": {
        "id": "8uY8_Pxy_F1j"
      }
    },
    {
      "cell_type": "markdown",
      "source": [
        "**Action**: Are the concrete steps an AI Agent Takes to interact with it's environment"
      ],
      "metadata": {
        "id": "lxclbuuGJ0gy"
      }
    },
    {
      "cell_type": "code",
      "source": [
        "# First, we would want our Agent to be a seperate object to make things easier:\n",
        "class Agent():\n",
        "  def __init__(self, work, toolfamily, llm_client):\n",
        "    self.work = work\n",
        "    self.toolfamily = toolfamily\n",
        "    self.thought_prompt = self._buildThoughtPrompt(work, toolfamily)\n",
        "    self.llm = llm_client\n",
        "\n",
        "  def _buildThoughtPrompt(work, toollist:Tool) -> str:\n",
        "    agentPrompt = f\"You are an AI-system equipped with some tools. You are an expert {work}\"\n",
        "    outputGeneration = \"\"\"\n",
        "      You are expected to plan and reason the steps that need to be taken in order to arrive at the expected answer.\n",
        "      Each step of your thinking should be shown as a dictionary element contained within a Python list.\n",
        "      Each step should only contain the work related to the tool and nothing else.\n",
        "      If the query can be resolved within a single step- go for it; Else document each step in the format given below.\n",
        "      ```python\n",
        "      [\n",
        "        {\n",
        "          \"thought\": \"a-one-sentence-description-of-why-you-selected-this-tool\",\n",
        "          \"action\": (Tool_Name, *args, **kwargs)\n",
        "        },\n",
        "        ...\n",
        "      ]\n",
        "      ```\n",
        "      Only generate this python object- do not generate any extra code or explainatory text\n",
        "      Here are your Tools.\n",
        "    \"\"\"\n",
        "    agentPrompt += outputGeneration\n",
        "    for key, val in toolFamily.list_tools().items():\n",
        "      samp = f\"\\nTool Name:\\t{key}\\nTool Description:\\n{val}\\n\"\n",
        "      agentPrompt += samp\n",
        "    return agentPrompt\n",
        "\n",
        "  def _think(self, query) -> list:\n",
        "    \"\"\"Runs the Thinking Step of the Agent\"\"\"\n",
        "    prompt = f\"{self.thought_prompt}\\n\\nHere is your Query {query}\"\n",
        "    answer = self.llm.generate_content(prompt)\n",
        "    answer = answer.replace(\"python\", \"\").replace(\"```\", \"\")\n",
        "    return eval(answer)\n",
        "\n",
        "  def _act(self, thought: list[dict]) -> list:\n",
        "      results = []\n",
        "      for step in thought:\n",
        "          action_tuple = step.get(\"action\")\n",
        "          if not action_tuple:\n",
        "              continue\n",
        "          tool_name, *args = action_tuple\n",
        "          tool_fn = self.toolfamily.tools[tool_name][\"function_name\"]\n",
        "\n",
        "          # Handle case: single argument which is a dict → unpack as kwargs\n",
        "          if len(args) == 1 and isinstance(args[0], dict):\n",
        "              result = tool_fn(**args[0])\n",
        "          else:\n",
        "              result = tool_fn(*args)\n",
        "\n",
        "          results.append(result)\n",
        "      return results\n",
        "  def _observe(self, query, thought, data):\n",
        "    prompt = f\"\"\"\n",
        "      You are a finance agent- and you have performed certain operations.\n",
        "      The query that was given to you was:\n",
        "        {query}\n",
        "      The Thought you processed was:\n",
        "        {thought}\n",
        "      The Data You recieved was:\n",
        "        {data}\n",
        "      Now, combine these information and give a suitable reply for the user.\n",
        "      Notes: Give Smart financial answers related to the query-- and your answer should satisfy the user's question.\n",
        "    \"\"\"\n",
        "    answer = self.llm.generate_content(prompt)\n",
        "    return answer\n",
        "\n",
        "  def run(self, query):\n",
        "    thoughts = self._think(query)\n",
        "    action = self._act(thoughts)\n",
        "    observation = self._observe(query, thoughts, action)\n",
        "    return observation"
      ],
      "metadata": {
        "id": "6BK5giwI2Y64"
      },
      "execution_count": null,
      "outputs": []
    },
    {
      "cell_type": "code",
      "source": [
        "financeAgent = Agent(\n",
        "    work = \"Financial Agent\",\n",
        "    toolfamily= toolFamily,\n",
        "    llm_client= client\n",
        ")"
      ],
      "metadata": {
        "id": "nWtF1qPkkQjI"
      },
      "execution_count": null,
      "outputs": []
    },
    {
      "cell_type": "code",
      "source": [
        "multi_action_prompt = \"\"\"\n",
        "Hey, I’m trying to take control of my finances and need your help with a few things.\n",
        "\n",
        "1. I want to plan a trip to Sri Lanka that will cost me about ₹45,000. I currently have ₹3,000 saved and I’m hoping to leave in mid-December this year(2025). Can you tell me how much I need to save weekly to make it?\n",
        "\n",
        "2. Also, I live alone in Bangalore, spend around ₹25,000 a month, and work in a startup, so my job stability is moderate. I have two dependents: my mom and younger brother. Can you tell me what my emergency fund goal should be?\n",
        "\n",
        "3. Lastly, I’ve got a bunch of subscriptions that I’m not sure I’m using wisely. Here’s the list:\n",
        "   - Netflix: ₹649/month, ~10 hours/month\n",
        "   - Spotify: ₹119/month, ~20 hours/month\n",
        "   - Notion AI: ₹800/year, ~5 hours/month\n",
        "   - Headspace: ₹500/year, ~1 hour/month\n",
        "\n",
        "Please audit this and tell me where I’m wasting money.\n",
        "Could you give me a list of where all I should save this money?\n",
        "Help me prioritize all this!\n",
        "\"\"\"\n",
        "result = financeAgent.run(multi_action_prompt)"
      ],
      "metadata": {
        "id": "iOJoGNVZkcko"
      },
      "execution_count": null,
      "outputs": []
    },
    {
      "cell_type": "code",
      "source": [
        "import markdown\n",
        "from IPython.display import Markdown\n",
        "display(Markdown(result))\n",
        "# result"
      ],
      "metadata": {
        "colab": {
          "base_uri": "https://localhost:8080/",
          "height": 1000
        },
        "id": "hv10B9x7zrQw",
        "outputId": "9eb0370f-8975-41b5-ee25-0e0b40f4e07f"
      },
      "execution_count": null,
      "outputs": [
        {
          "output_type": "display_data",
          "data": {
            "text/plain": [
              "<IPython.core.display.Markdown object>"
            ],
            "text/markdown": "Hey there! It's great to see you taking charge of your finances. Let's break down your goals and get you on the right track.\n\n### 1. Your Sri Lanka Trip Plan\n\nYou're aiming for a trip to Sri Lanka costing **₹45,000** and currently have **₹3,000** saved. This means you need to save an additional **₹42,000**.\n\nBased on a departure in mid-December (which the system has calculated as about 146 days from now), you'll need to save:\n\n*   **Weekly Savings Needed:** **₹2,013.70**\n*   **Daily Savings Needed:** **₹287.67**\n\nThat's a definite goal! Just **₹2,013.70 per week** until you're exploring the beautiful landscapes of Sri Lanka!\n\n### 2. Your Emergency Fund Goal\n\nGiven that you live alone, have monthly expenses of **₹25,000**, work in a startup with moderate job stability, and support two dependents (your mom and younger brother), having a robust emergency fund is absolutely crucial.\n\nA standard recommendation for someone in your situation is to have 6 months' worth of essential expenses saved.\n\n*   **Your Emergency Fund Goal:** **₹1,50,000** (This covers 6 months of your ₹25,000 monthly expenses).\n\nAchieving this goal will provide a significant financial safety net, allowing you to sleep better knowing your dependents and you are covered for a good period if unexpected events occur. To build this within a year, you'd aim to save approximately **₹12,500 per month** or **₹3,125 per week**.\n\n### 3. Subscription Audit: Where You're Wasting Money\n\nLet's look at your subscriptions to identify potential savings. You're currently spending a total of about **₹876.33 per month** on these services, which adds up to **₹10,516 annually**.\n\nHere's the breakdown and audit:\n\n*   **Netflix:** ₹649/month, ~10 hours/month (Cost per hour: ₹64.90)\n*   **Spotify:** ₹119/month, ~20 hours/month (Cost per hour: ₹5.95)\n*   **Notion AI:** ₹800/year (~₹66.67/month), ~5 hours/month (Cost per hour: ₹13.33)\n*   **Headspace:** ₹500/year (~₹41.67/month), ~1 hour/month (Cost per hour: ₹41.67)\n\n**Recommendation:**\n\nBased on your usage, **Headspace** stands out as an underutilized subscription. You're spending ₹41.67 per month for just 1 hour of usage.\n\n*   **Potential Monthly Savings:** **₹41.67**\n*   **Potential Annual Savings:** **₹500.04**\n\n**Action:** I recommend canceling your **Headspace** subscription. If you find yourself using it more in the future, you can always re-subscribe. The other subscriptions appear to offer more value for your usage time.\n\n### Prioritizing Your Savings & Where to Allocate Funds\n\nNow, let's put it all together and prioritize your financial goals:\n\n1.  **Top Priority: Build Your Emergency Fund (Goal: ₹1,50,000)**\n    *   **Why:** This is your most critical financial safety net, especially with dependents and moderate job stability. It protects you from unforeseen circumstances like job loss, medical emergencies, or unexpected expenses without going into debt.\n    *   **Where to allocate savings:**\n        *   **Immediately:** The **₹41.67** you save each month from canceling Headspace should be the very first contribution to your emergency fund.\n        *   **Regularly:** Beyond the Headspace savings, you should prioritize finding ways to contribute consistently towards the **₹12,500/month (or ₹3,125/week)** goal for your emergency fund. This will likely involve reviewing other discretionary spending in your budget.\n\n2.  **Second Priority: Fund Your Sri Lanka Trip (Remaining: ₹42,000)**\n    *   **Why:** While important for your well-being, this is a discretionary expense. It's smart to have your safety net in progress before fully committing to larger discretionary goals.\n    *   **Where to allocate savings:** Once you have a solid plan and are consistently contributing a significant amount to your emergency fund, focus on dedicating **₹2,013.70 per week** specifically for your trip.\n\n**In summary, here’s your actionable plan:**\n\n*   **Cancel Headspace immediately** to save ₹41.67/month.\n*   **Direct the saved ₹41.67/month to your Emergency Fund.**\n*   **Review your budget** to find an additional **₹12,500 per month** (or ₹3,125/week) to consistently put towards your ₹1,50,000 emergency fund goal.\n*   Simultaneously, start putting aside **₹2,013.70 per week** for your Sri Lanka trip, once your emergency fund contributions are established and consistent.\n\nTaking control of your finances is a journey, and you're off to a fantastic start by proactively planning and identifying areas for improvement!"
          },
          "metadata": {}
        }
      ]
    }
  ]
}