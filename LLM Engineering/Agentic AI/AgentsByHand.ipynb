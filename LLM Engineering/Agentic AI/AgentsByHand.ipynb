{
  "nbformat": 4,
  "nbformat_minor": 0,
  "metadata": {
    "colab": {
      "provenance": [],
      "authorship_tag": "ABX9TyPQ+7XGA05CvvLYemcGJ9QE",
      "include_colab_link": true
    },
    "kernelspec": {
      "name": "python3",
      "display_name": "Python 3"
    },
    "language_info": {
      "name": "python"
    }
  },
  "cells": [
    {
      "cell_type": "markdown",
      "metadata": {
        "id": "view-in-github",
        "colab_type": "text"
      },
      "source": [
        "<a href=\"https://colab.research.google.com/github/aaronmat1905/the-tokenized-tech/blob/main/LLM%20Engineering/Agentic%20AI/AgentsByHand.ipynb\" target=\"_parent\"><img src=\"https://colab.research.google.com/assets/colab-badge.svg\" alt=\"Open In Colab\"/></a>"
      ]
    },
    {
      "cell_type": "markdown",
      "source": [
        "**The Tokenized Tech**\\\n",
        "Intro to Agents, the old fashioned way\n"
      ],
      "metadata": {
        "id": "zccSYQJxEmzT"
      }
    },
    {
      "cell_type": "markdown",
      "source": [
        "## Configure Imports and API Credentials"
      ],
      "metadata": {
        "id": "yg3jHlxiU6CE"
      }
    },
    {
      "cell_type": "code",
      "source": [
        "import os\n",
        "import requests"
      ],
      "metadata": {
        "id": "qcarByV4VCdi"
      },
      "execution_count": 1,
      "outputs": []
    },
    {
      "cell_type": "code",
      "execution_count": 2,
      "metadata": {
        "id": "wT4WCeG-J2jb"
      },
      "outputs": [],
      "source": [
        "# --- For Google Colab Users ---\n",
        "from google.colab import userdata\n",
        "\n",
        "# Retrieve Gemini API key securely from Colab's userdata storage\n",
        "api_key = userdata.get(\"GeminiAPI\") or \"REPLACE-YOUR-GEMINI-API-KEY-HERE\"\n",
        "\n",
        "# --- For Local Development Environments ---\n",
        "# Uncomment the lines below when running outside Colab\n",
        "\n",
        "# import os\n",
        "# from dotenv import load_dotenv\n",
        "# load_dotenv()  # Load environment variables from a .env file\n",
        "# api_key = os.getenv(\"GEMINI_API_KEY\")"
      ]
    },
    {
      "cell_type": "markdown",
      "source": [
        "## Initializing the **Gemini Client**\n",
        "*Custom Implementation*"
      ],
      "metadata": {
        "id": "nBhHnq5XLGUx"
      }
    },
    {
      "cell_type": "code",
      "source": [
        "class GeminiClient:\n",
        "\tdef __init__(self, api_key: str):\n",
        "\t\tself.api_key = api_key\n",
        "\t\tself.endpoint = \"https://generativelanguage.googleapis.com/v1beta/models/gemini-2.5-flash:generateContent\"\n",
        "\t\tself.headers = {\n",
        "\t\t\t\"x-goog-api-key\": self.api_key,\n",
        "\t\t\t\"Content-Type\": \"application/json\"\n",
        "\t\t\t}\n",
        "\tdef generate_content(self, prompt) -> str:\n",
        "\t\tpayload = {\n",
        "\t\t\t\"contents\": [\n",
        "\t\t\t\t\t{ \"parts\":[{\"text\":prompt}]}\n",
        "\t\t\t\t]\n",
        "\t\t}\n",
        "\t\tresponse = requests.post(self.endpoint, headers= self.headers, json = payload)\n",
        "\t\tif response.status_code ==200:\n",
        "\t\t\tdata = response.json()\n",
        "\t\t\ttry:\n",
        "\t\t\t\treturn data['candidates'][0]['content']['parts'][0]['text']\n",
        "\t\t\texcept (KeyError, IndexError):\n",
        "\t\t\t\treturn \"No response text found\"\n",
        "\t\telse:\n",
        "\t\t\treturn f\"Error: {response.status_code} - {response.text}\""
      ],
      "metadata": {
        "id": "MAEKdNZmK7wB"
      },
      "execution_count": 3,
      "outputs": []
    },
    {
      "cell_type": "code",
      "source": [
        "# Useage of our custom client:\n",
        "client = GeminiClient(api_key)"
      ],
      "metadata": {
        "id": "MxoWNaasLncS"
      },
      "execution_count": 4,
      "outputs": []
    },
    {
      "cell_type": "code",
      "source": [
        "# Sample Prompt:\n",
        "prompt = \"Explain what are AI Agents in a sentence.\"\n",
        "response = client.generate_content(prompt)\n",
        "print(f\"Response: {response}\")"
      ],
      "metadata": {
        "colab": {
          "base_uri": "https://localhost:8080/"
        },
        "id": "Cm9uLWPsPfeN",
        "outputId": "5366f64b-b0b1-47d2-a854-1ab713296ec1"
      },
      "execution_count": 5,
      "outputs": [
        {
          "output_type": "stream",
          "name": "stdout",
          "text": [
            "Response: AI Agents are autonomous AI programs or systems designed to perceive their environment and take actions to achieve specific goals.\n"
          ]
        }
      ]
    },
    {
      "cell_type": "markdown",
      "source": [
        "## Define **Tool Registry** and associated Tools"
      ],
      "metadata": {
        "id": "1E148MGGY-IY"
      }
    },
    {
      "cell_type": "code",
      "source": [
        "# Tool Registry:\n",
        "class Tool:\n",
        "    def __init__(self):\n",
        "        self.tools = {}\n",
        "\n",
        "    def registerTool(self, name=None, description=None):\n",
        "        \"\"\"Records a Tool\"\"\"\n",
        "        def decorator(func):\n",
        "            tool_name = name or func.__name__\n",
        "            self.tools[tool_name] = {\n",
        "                \"function_name\": func,\n",
        "                \"description\": description or func.__doc__,\n",
        "                \"call\": lambda *args, **kwargs: func(*args, **kwargs)\n",
        "            }\n",
        "            return func\n",
        "        return decorator\n",
        "\n",
        "    def call(self, tool_name: str, *args, **kwargs):\n",
        "        if tool_name not in self.tools:\n",
        "            raise ValueError(f\"Tool '{tool_name}' does not exist.\")\n",
        "        return self.tools[tool_name][\"call\"](*args, **kwargs)\n",
        "\n",
        "    def list_tools(self):\n",
        "        return {name: meta[\"description\"] for name, meta in self.tools.items()}\n"
      ],
      "metadata": {
        "id": "ywzL29QtLwsO"
      },
      "execution_count": 6,
      "outputs": []
    },
    {
      "cell_type": "code",
      "source": [
        "# Creating an instance of the Tool Registry:\n",
        "toolFamily = Tool()"
      ],
      "metadata": {
        "id": "K4VZ9jl7hElp"
      },
      "execution_count": 7,
      "outputs": []
    },
    {
      "cell_type": "markdown",
      "source": [
        "**Problem Statement:**  Create an Agent for Personal Financial Wellness & Life Planning"
      ],
      "metadata": {
        "id": "5iFbC_hhhLnK"
      }
    },
    {
      "cell_type": "markdown",
      "source": [
        "**Emergency Fund Calculator** \\\n",
        "Figures out how much money you should save for emergencies."
      ],
      "metadata": {
        "id": "ll4LVmNKgtxN"
      }
    },
    {
      "cell_type": "code",
      "source": [
        "@toolFamily.registerTool()\n",
        "def calculate_emergency_fund_goal(monthly_expenses, job_stability, dependents):\n",
        "    \"\"\"\n",
        "    Calculate personalized emergency fund target based on life situation.\n",
        "    Args:\n",
        "        monthly_expenses (float): Monthly living expenses.\n",
        "        job_stability (str): \"stable\", \"moderate\", \"unstable\" - job security level.\n",
        "        dependents (int): Number of dependents (spouse, kids, parents).\n",
        "    Returns:\n",
        "        dict: Emergency fund recommendations and savings plan.\n",
        "    \"\"\"\n",
        "    base_months = 3\n",
        "\n",
        "    # Adjust based on job stability\n",
        "    if job_stability == \"stable\":\n",
        "        months_needed = base_months\n",
        "    elif job_stability == \"moderate\":\n",
        "        months_needed = base_months + 2\n",
        "    else:  # unstable\n",
        "        months_needed = base_months + 4\n",
        "\n",
        "    # Add buffer for dependents\n",
        "    months_needed += dependents * 0.5\n",
        "\n",
        "    target_amount = monthly_expenses * months_needed\n",
        "    monthly_savings_needed = target_amount / 12  # Build over 1 year\n",
        "\n",
        "    return {\n",
        "        \"target_amount\": round(target_amount, 2),\n",
        "        \"months_covered\": round(months_needed, 1),\n",
        "        \"monthly_savings_goal\": round(monthly_savings_needed, 2),\n",
        "        \"weekly_savings_goal\": round(monthly_savings_needed / 4, 2),\n",
        "        \"motivation\": f\"This covers {months_needed} months of expenses - you'll sleep better!\"\n",
        "    }\n",
        "## Let us call the tool\n",
        "toolFamily.call('calculate_emergency_fund_goal', 3500, 'moderate', 2)"
      ],
      "metadata": {
        "id": "kk7JEoPHcSH2",
        "outputId": "94ffa2d3-b7af-4e11-c5cd-83514347156d",
        "colab": {
          "base_uri": "https://localhost:8080/"
        }
      },
      "execution_count": 27,
      "outputs": [
        {
          "output_type": "execute_result",
          "data": {
            "text/plain": [
              "{'target_amount': 21000.0,\n",
              " 'months_covered': 6.0,\n",
              " 'monthly_savings_goal': 1750.0,\n",
              " 'weekly_savings_goal': 437.5,\n",
              " 'motivation': \"This covers 6.0 months of expenses - you'll sleep better!\"}"
            ]
          },
          "metadata": {},
          "execution_count": 27
        }
      ]
    },
    {
      "cell_type": "markdown",
      "source": [
        "**Vacation Savings Planner**\\\n",
        "Purpose: Helps you save money for your next trip with weekly goals."
      ],
      "metadata": {
        "id": "BATyY4xthM4W"
      }
    },
    {
      "cell_type": "code",
      "source": [
        "@toolFamily.registerTool()\n",
        "def calculate_vacation_savings_plan(destination, trip_cost, departure_date, current_savings):\n",
        "    \"\"\"\n",
        "    Create a personalized vacation savings plan with weekly goals.\n",
        "    Args:\n",
        "        destination (str): Where you're going (for motivation).\n",
        "        trip_cost (float): Total estimated trip cost.\n",
        "        departure_date (str): When you're leaving (YYYY-MM-DD).\n",
        "        current_savings (float): Amount already saved.\n",
        "    Returns:\n",
        "        dict: Savings plan with weekly targets and motivation.\n",
        "    \"\"\"\n",
        "    from datetime import datetime\n",
        "\n",
        "    departure = datetime.strptime(departure_date, \"%Y-%m-%d\")\n",
        "    today = datetime.now()\n",
        "    days_until_trip = (departure - today).days\n",
        "    weeks_until_trip = days_until_trip / 7\n",
        "\n",
        "    amount_still_needed = trip_cost - current_savings\n",
        "\n",
        "    if weeks_until_trip <= 0:\n",
        "        return {\"error\": \"Trip date has passed or is today!\"}\n",
        "\n",
        "    weekly_savings_needed = amount_still_needed / weeks_until_trip\n",
        "\n",
        "    progress_percentage = (current_savings / trip_cost) * 100\n",
        "\n",
        "    return {\n",
        "        \"destination\": destination,\n",
        "        \"days_until_trip\": days_until_trip,\n",
        "        \"weekly_savings_needed\": round(weekly_savings_needed, 2),\n",
        "        \"daily_savings_needed\": round(weekly_savings_needed / 7, 2),\n",
        "        \"progress_percentage\": round(progress_percentage, 2),\n",
        "        \"motivation\": f\"Just ${round(weekly_savings_needed, 2)} per week until you're in {destination}!\",\n",
        "        \"coffee_equivalent\": f\"That's about {round(weekly_savings_needed / 5, 0)} coffees per week\"\n",
        "    }\n",
        "\n",
        "# Vacation Savings Planner:\n",
        "toolFamily.call('calculate_vacation_savings_plan', 'Hawaii', 5000, '2025-12-15', 1200)"
      ],
      "metadata": {
        "id": "tI5h02StcUEo",
        "outputId": "c3a4803a-991d-4656-d79b-1df7f074c1e9",
        "colab": {
          "base_uri": "https://localhost:8080/"
        }
      },
      "execution_count": 28,
      "outputs": [
        {
          "output_type": "execute_result",
          "data": {
            "text/plain": [
              "{'destination': 'Hawaii',\n",
              " 'days_until_trip': 142,\n",
              " 'weekly_savings_needed': 187.32,\n",
              " 'daily_savings_needed': 26.76,\n",
              " 'progress_percentage': 24.0,\n",
              " 'motivation': \"Just $187.32 per week until you're in Hawaii!\",\n",
              " 'coffee_equivalent': \"That's about 37.0 coffees per week\"}"
            ]
          },
          "metadata": {},
          "execution_count": 28
        }
      ]
    },
    {
      "cell_type": "markdown",
      "source": [
        "**Buy vs Rent Analyzer**\\\n",
        "Purpose: Shows whether it's better to buy or rent a home for your situation."
      ],
      "metadata": {
        "id": "-cXCE-UthWa0"
      }
    },
    {
      "cell_type": "code",
      "source": [
        "@toolFamily.registerTool()\n",
        "def calculate_buying_vs_renting(home_price, rent_price, down_payment, years_staying, annual_home_appreciation):\n",
        "    \"\"\"\n",
        "    Compare the financial impact of buying vs renting for your situation.\n",
        "    Args:\n",
        "        home_price (float): Purchase price of the home.\n",
        "        rent_price (float): Monthly rent cost.\n",
        "        down_payment (float): Down payment amount.\n",
        "        years_staying (int): How long you plan to stay.\n",
        "        annual_home_appreciation (float): Expected annual home value growth percentage.\n",
        "    Returns:\n",
        "        dict: Detailed buy vs rent analysis with recommendation.\n",
        "    \"\"\"\n",
        "    # Buying costs\n",
        "    loan_amount = home_price - down_payment\n",
        "    monthly_mortgage = loan_amount * 0.005  # Simplified 6% rate\n",
        "    property_tax = home_price * 0.015 / 12  # 1.5% annually\n",
        "    insurance = home_price * 0.005 / 12  # 0.5% annually\n",
        "    maintenance = home_price * 0.01 / 12  # 1% annually\n",
        "\n",
        "    monthly_buying_cost = monthly_mortgage + property_tax + insurance + maintenance\n",
        "\n",
        "    # Future home value\n",
        "    future_home_value = home_price * ((1 + annual_home_appreciation/100) ** years_staying)\n",
        "\n",
        "    # Total costs over period\n",
        "    total_buying_cost = (monthly_buying_cost * years_staying * 12) + down_payment\n",
        "    total_renting_cost = rent_price * years_staying * 12\n",
        "\n",
        "    # Equity gained\n",
        "    equity_gained = future_home_value - loan_amount\n",
        "    net_buying_cost = total_buying_cost - equity_gained\n",
        "\n",
        "    savings = total_renting_cost - net_buying_cost\n",
        "\n",
        "    recommendation = \"Buy\" if savings > 0 else \"Rent\"\n",
        "\n",
        "    return {\n",
        "        \"monthly_mortgage_payment\": round(monthly_mortgage, 2),\n",
        "        \"total_monthly_ownership_cost\": round(monthly_buying_cost, 2),\n",
        "        \"monthly_rent\": rent_price,\n",
        "        \"equity_after_years\": round(equity_gained, 2),\n",
        "        \"total_savings_by_buying\": round(savings, 2),\n",
        "        \"recommendation\": recommendation,\n",
        "        \"break_even_years\": round(abs(savings) / (abs(monthly_buying_cost - rent_price) * 12), 1),\n",
        "        \"personal_advice\": f\"If you're staying {years_staying} years, {recommendation.lower()}ing saves you ${abs(round(savings, 2))}\"\n",
        "    }\n",
        "# Buying vs. Renting\n",
        "toolFamily.call('calculate_buying_vs_renting', 400000, 2500, 80000, 5, 3.5)"
      ],
      "metadata": {
        "id": "jSu2yXDtcVoy",
        "outputId": "37dd4d46-f872-4ae7-9116-ec23ef34124b",
        "colab": {
          "base_uri": "https://localhost:8080/"
        }
      },
      "execution_count": 30,
      "outputs": [
        {
          "output_type": "execute_result",
          "data": {
            "text/plain": [
              "{'monthly_mortgage_payment': 1600.0,\n",
              " 'total_monthly_ownership_cost': 2600.0,\n",
              " 'monthly_rent': 2500,\n",
              " 'equity_after_years': 155074.52,\n",
              " 'total_savings_by_buying': 69074.52,\n",
              " 'recommendation': 'Buy',\n",
              " 'break_even_years': 57.6,\n",
              " 'personal_advice': \"If you're staying 5 years, buying saves you $69074.52\"}"
            ]
          },
          "metadata": {},
          "execution_count": 30
        }
      ]
    },
    {
      "cell_type": "markdown",
      "source": [
        "**Coffee Shop Savings Calculator**\\\n",
        "Purpose: Shows how much you could save by making coffee at home instead of buying it."
      ],
      "metadata": {
        "id": "69JgtPU6l7MX"
      }
    },
    {
      "cell_type": "code",
      "source": [
        "@toolFamily.registerTool()\n",
        "def calculate_coffee_shop_savings(daily_coffee_cost, brewing_cost_per_cup, workdays_per_week):\n",
        "    \"\"\"\n",
        "    Calculate how much you could save by making coffee at home vs buying.\n",
        "    Args:\n",
        "        daily_coffee_cost (float): Cost of your daily coffee shop visit.\n",
        "        brewing_cost_per_cup (float): Cost to make coffee at home.\n",
        "        workdays_per_week (int): How many days per week you buy coffee.\n",
        "    Returns:\n",
        "        dict: Savings analysis with fun comparisons.\n",
        "    \"\"\"\n",
        "    daily_savings = daily_coffee_cost - brewing_cost_per_cup\n",
        "    weekly_savings = daily_savings * workdays_per_week\n",
        "    monthly_savings = weekly_savings * 4.33  # Average weeks per month\n",
        "    annual_savings = monthly_savings * 12\n",
        "\n",
        "    # Fun comparisons\n",
        "    netflix_subscriptions = annual_savings / 180  # ~$15/month\n",
        "    vacation_fund = annual_savings / 2000  # Decent vacation cost\n",
        "\n",
        "    return {\n",
        "        \"daily_savings\": round(daily_savings, 2),\n",
        "        \"weekly_savings\": round(weekly_savings, 2),\n",
        "        \"monthly_savings\": round(monthly_savings, 2),\n",
        "        \"annual_savings\": round(annual_savings, 2),\n",
        "        \"netflix_equivalent\": round(netflix_subscriptions, 1),\n",
        "        \"vacation_fund_portion\": round(vacation_fund, 2),\n",
        "        \"fun_fact\": f\"In 10 years, you'd save ${round(annual_savings * 10, 2)} - that's a car!\",\n",
        "        \"motivation\": f\"Skip the coffee shop {workdays_per_week} days a week = ${round(monthly_savings, 2)} extra per month\"\n",
        "    }\n",
        "\n",
        "# Coffee Shop savings\n",
        "toolFamily.call('calculate_coffee_shop_savings', 5.50, 0.75, 5)"
      ],
      "metadata": {
        "id": "RzN4bfSEcYQH",
        "outputId": "c1cff248-bafd-425f-8758-30652e3d10e2",
        "colab": {
          "base_uri": "https://localhost:8080/"
        }
      },
      "execution_count": 31,
      "outputs": [
        {
          "output_type": "execute_result",
          "data": {
            "text/plain": [
              "{'daily_savings': 4.75,\n",
              " 'weekly_savings': 23.75,\n",
              " 'monthly_savings': 102.84,\n",
              " 'annual_savings': 1234.05,\n",
              " 'netflix_equivalent': 6.9,\n",
              " 'vacation_fund_portion': 0.62,\n",
              " 'fun_fact': \"In 10 years, you'd save $12340.5 - that's a car!\",\n",
              " 'motivation': 'Skip the coffee shop 5 days a week = $102.84 extra per month'}"
            ]
          },
          "metadata": {},
          "execution_count": 31
        }
      ]
    },
    {
      "cell_type": "markdown",
      "source": [
        "**Subscription Audit Tool**\\\n",
        "Purpose: Finds subscriptions you're paying for but not really using."
      ],
      "metadata": {
        "id": "V_BCFFb4mCOl"
      }
    },
    {
      "cell_type": "code",
      "source": [
        "@toolFamily.registerTool()\n",
        "def calculate_subscription_audit(subscriptions_list, monthly_usage_hours):\n",
        "    \"\"\"\n",
        "    Analyze your subscription spending and find savings opportunities.\n",
        "    Args:\n",
        "        subscriptions_list (list): List of dicts with 'name', 'cost', 'frequency' (monthly/annual).\n",
        "        monthly_usage_hours (dict): Dict with subscription names as keys, usage hours as values.\n",
        "    Returns:\n",
        "        dict: Subscription analysis with recommendations.\n",
        "    \"\"\"\n",
        "    total_monthly_cost = 0\n",
        "    underused_subs = []\n",
        "\n",
        "    for sub in subscriptions_list:\n",
        "        monthly_cost = sub['cost'] if sub['frequency'] == 'monthly' else sub['cost'] / 12\n",
        "        total_monthly_cost += monthly_cost\n",
        "\n",
        "        usage = monthly_usage_hours.get(sub['name'], 0)\n",
        "        cost_per_hour = monthly_cost / usage if usage > 0 else monthly_cost\n",
        "\n",
        "        if usage < 5:  # Less than 5 hours per month\n",
        "            underused_subs.append({\n",
        "                'name': sub['name'],\n",
        "                'monthly_cost': round(monthly_cost, 2),\n",
        "                'usage_hours': usage,\n",
        "                'cost_per_hour': round(cost_per_hour, 2)\n",
        "            })\n",
        "\n",
        "    potential_savings = sum([sub['monthly_cost'] for sub in underused_subs])\n",
        "\n",
        "    return {\n",
        "        \"total_monthly_cost\": round(total_monthly_cost, 2),\n",
        "        \"annual_cost\": round(total_monthly_cost * 12, 2),\n",
        "        \"underused_subscriptions\": underused_subs,\n",
        "        \"potential_monthly_savings\": round(potential_savings, 2),\n",
        "        \"potential_annual_savings\": round(potential_savings * 12, 2),\n",
        "        \"recommendation\": f\"Cancel {len(underused_subs)} underused subscriptions to save ${round(potential_savings, 2)}/month\",\n",
        "        \"reality_check\": f\"You're spending ${round(total_monthly_cost, 2)}/month on subscriptions - that's a car payment!\"\n",
        "    }\n",
        "\n",
        "# Calculate Subscriptioin Audit\n",
        "\n",
        "toolFamily.call('calculate_subscription_audit',\n",
        "    [\n",
        "        {'name': 'Netflix', 'cost': 15.99, 'frequency': 'monthly'},\n",
        "        {'name': 'Spotify', 'cost': 9.99, 'frequency': 'monthly'},\n",
        "        {'name': 'Adobe Creative', 'cost': 239.88, 'frequency': 'annual'}\n",
        "    ],\n",
        "    {'Netflix': 20, 'Spotify': 40, 'Adobe Creative': 2}\n",
        ")"
      ],
      "metadata": {
        "id": "pMbhkFYhbqB8",
        "outputId": "a47c0b5d-d572-4740-cc5d-f6c8a78de663",
        "colab": {
          "base_uri": "https://localhost:8080/"
        }
      },
      "execution_count": 32,
      "outputs": [
        {
          "output_type": "execute_result",
          "data": {
            "text/plain": [
              "{'total_monthly_cost': 45.97,\n",
              " 'annual_cost': 551.64,\n",
              " 'underused_subscriptions': [{'name': 'Adobe Creative',\n",
              "   'monthly_cost': 19.99,\n",
              "   'usage_hours': 2,\n",
              "   'cost_per_hour': 9.99}],\n",
              " 'potential_monthly_savings': 19.99,\n",
              " 'potential_annual_savings': 239.88,\n",
              " 'recommendation': 'Cancel 1 underused subscriptions to save $19.99/month',\n",
              " 'reality_check': \"You're spending $45.97/month on subscriptions - that's a car payment!\"}"
            ]
          },
          "metadata": {},
          "execution_count": 32
        }
      ]
    },
    {
      "cell_type": "code",
      "source": [
        "## Let us now see how these tools are registered in our system: Creating a repository of our tools:\n",
        "for key, value in toolFamily.list_tools().items():\n",
        "  print(key)\n",
        "  print(value, \"\\n=================\\n\")"
      ],
      "metadata": {
        "id": "KErY3Hf2mMrn",
        "outputId": "0cc42a1a-b7d8-4f66-cb9d-f0aab762cc04",
        "colab": {
          "base_uri": "https://localhost:8080/"
        }
      },
      "execution_count": 25,
      "outputs": [
        {
          "output_type": "stream",
          "name": "stdout",
          "text": [
            "calculate_emergency_fund_goal\n",
            "\n",
            "    Calculate personalized emergency fund target based on life situation.\n",
            "    Args:\n",
            "        monthly_expenses (float): Monthly living expenses.\n",
            "        job_stability (str): \"stable\", \"moderate\", \"unstable\" - job security level.\n",
            "        dependents (int): Number of dependents (spouse, kids, parents).\n",
            "    Returns:\n",
            "        dict: Emergency fund recommendations and savings plan.\n",
            "     \n",
            "=================\n",
            "\n",
            "calculate_vacation_savings_plan\n",
            "\n",
            "    Create a personalized vacation savings plan with weekly goals.\n",
            "    Args:\n",
            "        destination (str): Where you're going (for motivation).\n",
            "        trip_cost (float): Total estimated trip cost.\n",
            "        departure_date (str): When you're leaving (YYYY-MM-DD).\n",
            "        current_savings (float): Amount already saved.\n",
            "    Returns:\n",
            "        dict: Savings plan with weekly targets and motivation.\n",
            "     \n",
            "=================\n",
            "\n",
            "calculate_buying_vs_renting\n",
            "\n",
            "    Compare the financial impact of buying vs renting for your situation.\n",
            "    Args:\n",
            "        home_price (float): Purchase price of the home.\n",
            "        rent_price (float): Monthly rent cost.\n",
            "        down_payment (float): Down payment amount.\n",
            "        years_staying (int): How long you plan to stay.\n",
            "        annual_home_appreciation (float): Expected annual home value growth percentage.\n",
            "    Returns:\n",
            "        dict: Detailed buy vs rent analysis with recommendation.\n",
            "     \n",
            "=================\n",
            "\n",
            "calculate_coffee_shop_savings\n",
            "\n",
            "    Calculate how much you could save by making coffee at home vs buying.\n",
            "    Args:\n",
            "        daily_coffee_cost (float): Cost of your daily coffee shop visit.\n",
            "        brewing_cost_per_cup (float): Cost to make coffee at home.\n",
            "        workdays_per_week (int): How many days per week you buy coffee.\n",
            "    Returns:\n",
            "        dict: Savings analysis with fun comparisons.\n",
            "     \n",
            "=================\n",
            "\n",
            "calculate_subscription_audit\n",
            "\n",
            "    Analyze your subscription spending and find savings opportunities.\n",
            "    Args:\n",
            "        subscriptions_list (list): List of dicts with 'name', 'cost', 'frequency' (monthly/annual).\n",
            "        monthly_usage_hours (dict): Dict with subscription names as keys, usage hours as values.\n",
            "    Returns:\n",
            "        dict: Subscription analysis with recommendations.\n",
            "     \n",
            "=================\n",
            "\n"
          ]
        }
      ]
    },
    {
      "cell_type": "markdown",
      "source": [
        "##**Working of Agents**: the Think-Act-Observe Loop"
      ],
      "metadata": {
        "id": "LYCPIMiBa1rl"
      }
    },
    {
      "cell_type": "markdown",
      "source": [
        "![Untitled diagram _ Mermaid Chart-2025-07-25-071211.png](data:image/png;base64,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)"
      ],
      "metadata": {
        "id": "Hy3mu5CXbQGS"
      }
    },
    {
      "cell_type": "markdown",
      "source": [
        "**Approach**:\\\n",
        "Every Agent works in a Thought-Action-Observation Cycle.\n",
        "\n",
        "**Thought**: The Agent first reads the Query and plans the perfect set of steps that needs to be executed in order to get the query's output.\n",
        "\n",
        "Here, We try to adopt a prompt-engineering approach, where we specify the list of tools that would be used for our project. The LLM would read our query and list the most appropriate tool call/s to get the output.\n",
        "\n",
        "**Action**: Are the concrete steps an AI Agent Takes to interact with it's environment"
      ],
      "metadata": {
        "id": "8uY8_Pxy_F1j"
      }
    },
    {
      "cell_type": "code",
      "source": [
        "# First, we would want our Agent to be a seperate object to make things easier:\n",
        "class Agent():\n",
        "  def __init__(self, work, toolfamily, llm_client):\n",
        "    self.work = work\n",
        "    self.toolfamily = toolfamily\n",
        "    self.thought_prompt = self._buildThoughtPrompt(work, toolfamily)\n",
        "    self.llm = llm_client\n",
        "\n",
        "  def _buildThoughtPrompt(self, work, toollist:Tool) -> str:\n",
        "    agentPrompt = f\"You are an AI-system equipped with some tools. You are an expert {work}\"\n",
        "    outputGeneration = \"\"\"\n",
        "      You are expected to plan and reason the steps that need to be taken in order to arrive at the expected answer.\n",
        "      Each step of your thinking should be shown as a dictionary element contained within a Python list.\n",
        "      Each step should only contain the work related to the tool and nothing else.\n",
        "      If the query can be resolved within a single step- go for it; Else document each step in the format given below.\n",
        "      ```python\n",
        "      [\n",
        "        {\n",
        "          \"thought\": \"a-one-sentence-description-of-why-you-selected-this-tool\",\n",
        "          \"action\": (Tool_Name, *args, **kwargs)\n",
        "        },\n",
        "        ...\n",
        "      ]\n",
        "      ```\n",
        "      Only generate this python object- do not generate any extra code or explainatory text\n",
        "      Here are your Tools.\n",
        "    \"\"\"\n",
        "    agentPrompt += outputGeneration\n",
        "    for key, val in toolFamily.list_tools().items():\n",
        "      samp = f\"\\nTool Name:\\t{key}\\nTool Description:\\n{val}\\n\"\n",
        "      agentPrompt += samp\n",
        "    return agentPrompt\n",
        "\n",
        "  def _think(self, query) -> list:\n",
        "    \"\"\"Runs the Thinking Step of the Agent\"\"\"\n",
        "    prompt = f\"{self.thought_prompt}\\n\\nHere is your Query {query}\"\n",
        "    answer = self.llm.generate_content(prompt)\n",
        "    answer = answer.replace(\"python\", \"\").replace(\"```\", \"\")\n",
        "    return eval(answer)\n",
        "\n",
        "  def _act(self, thought: list[dict]) -> list:\n",
        "      results = []\n",
        "      for step in thought:\n",
        "          action_tuple = step.get(\"action\")\n",
        "          if not action_tuple:\n",
        "              continue\n",
        "          tool_name, *args = action_tuple\n",
        "          tool_fn = self.toolfamily.tools[tool_name][\"function_name\"]\n",
        "\n",
        "          # Handle case: single argument which is a dict → unpack as kwargs\n",
        "          if len(args) == 1 and isinstance(args[0], dict):\n",
        "              result = tool_fn(**args[0])\n",
        "          else:\n",
        "              result = tool_fn(*args)\n",
        "\n",
        "          results.append(result)\n",
        "      return results\n",
        "  def _observe(self, query, thought, data):\n",
        "    prompt = f\"\"\"\n",
        "      You are a finance agent- and you have performed certain operations.\n",
        "      The query that was given to you was:\n",
        "        {query}\n",
        "      The Thought you processed was:\n",
        "        {thought}\n",
        "      The Data You recieved was:\n",
        "        {data}\n",
        "      Now, combine these information and give a suitable reply for the user.\n",
        "      Notes: Give Smart financial answers related to the query-- and your answer should satisfy the user's question.\n",
        "    \"\"\"\n",
        "    answer = self.llm.generate_content(prompt)\n",
        "    return answer\n",
        "\n",
        "  def run(self, query):\n",
        "    thoughts = self._think(query)\n",
        "    action = self._act(thoughts)\n",
        "    observation = self._observe(query, thoughts, action)\n",
        "    return observation"
      ],
      "metadata": {
        "id": "6BK5giwI2Y64"
      },
      "execution_count": 19,
      "outputs": []
    },
    {
      "cell_type": "code",
      "source": [
        "financeAgent = Agent(\n",
        "    work = \"Financial Agent\",\n",
        "    toolfamily= toolFamily,\n",
        "    llm_client= client\n",
        ")"
      ],
      "metadata": {
        "id": "nWtF1qPkkQjI"
      },
      "execution_count": 20,
      "outputs": []
    },
    {
      "cell_type": "code",
      "source": [
        "multi_action_prompt = \"\"\"\n",
        "Hey, I’m trying to take control of my finances and need your help with a few things.\n",
        "\n",
        "1. I want to plan a trip to Sri Lanka that will cost me about ₹45,000. I currently have ₹3,000 saved and I’m hoping to leave in mid-December this year(2025). Can you tell me how much I need to save weekly to make it?\n",
        "\n",
        "2. Also, I live alone in Bangalore, spend around ₹25,000 a month, and work in a startup, so my job stability is moderate. I have two dependents: my mom and younger brother. Can you tell me what my emergency fund goal should be?\n",
        "\n",
        "3. Lastly, I’ve got a bunch of subscriptions that I’m not sure I’m using wisely. Here’s the list:\n",
        "   - Netflix: ₹649/month, ~10 hours/month\n",
        "   - Spotify: ₹119/month, ~20 hours/month\n",
        "   - Notion AI: ₹800/year, ~5 hours/month\n",
        "   - Headspace: ₹500/year, ~1 hour/month\n",
        "\n",
        "Please audit this and tell me where I’m wasting money.\n",
        "Could you give me a list of where all I should save this money?\n",
        "Help me prioritize all this!\n",
        "\"\"\"\n",
        "result = financeAgent.run(multi_action_prompt)"
      ],
      "metadata": {
        "id": "iOJoGNVZkcko"
      },
      "execution_count": 21,
      "outputs": []
    },
    {
      "cell_type": "code",
      "source": [
        "import markdown\n",
        "from IPython.display import Markdown\n",
        "display(Markdown(result))\n",
        "# result"
      ],
      "metadata": {
        "colab": {
          "base_uri": "https://localhost:8080/",
          "height": 1000
        },
        "id": "hv10B9x7zrQw",
        "outputId": "650bfb7a-cece-4352-88cc-72e562c4e8b9"
      },
      "execution_count": 22,
      "outputs": [
        {
          "output_type": "display_data",
          "data": {
            "text/plain": [
              "<IPython.core.display.Markdown object>"
            ],
            "text/markdown": "It's great that you're taking control of your finances! Let's break down each of your goals and create a clear plan.\n\n### 1. Sri Lanka Trip Savings Plan\n\nThis is an exciting goal! To reach your ₹45,000 target by mid-December 2025 with ₹3,000 already saved:\n\n*   **Days until trip:** You have approximately **142 days** (about 20 weeks) until your desired departure date of December 15, 2025.\n*   **Amount needed:** You need to save an additional **₹42,000** (₹45,000 - ₹3,000).\n*   **Weekly Savings Goal:** To achieve this, you'll need to save approximately **₹2,070.42 per week**.\n*   **Daily Savings Goal:** This breaks down to about **₹295.77 per day**.\n\nKeep going, you've already made 6.67% progress towards your adventure!\n\n### 2. Emergency Fund Goal\n\nGiven your living situation in Bangalore, ₹25,000 monthly expenses, moderate job stability at a startup, and two dependents (your mom and younger brother), a robust emergency fund is crucial.\n\n*   **Recommended Goal:** Your emergency fund goal should be **₹150,000**.\n*   **Coverage:** This amount will cover **6 months** of your essential living expenses.\n*   **Why 6 months?** For someone with moderate job stability and dependents, having 6 months of expenses provides a strong financial safety net, allowing you ample time to find new employment without stress if needed, and ensures your dependents are covered.\n*   **Savings Goal:** To build this fund, aim to save **₹12,500 per month** or **₹3,125 per week**.\n    *   *Motivation:* Building this fund will give you significant peace of mind and financial security for yourself and your family.\n\n### 3. Subscription Audit\n\nLet's look at where you might be able to free up some cash. Here's an audit of your current subscriptions:\n\n*   **Total Monthly Subscription Cost:** You are currently spending **₹876.33 per month** on these subscriptions.\n*   **Total Annual Subscription Cost:** This amounts to **₹10,516 per year**.\n\nHere’s the breakdown and a key area for potential savings:\n\n*   **Netflix:** ₹649/month, ~10 hours/month (Seems to be used regularly)\n*   **Spotify:** ₹119/month, ~20 hours/month (Good usage for the cost)\n*   **Notion AI:** ₹800/year (approx. ₹66.67/month), ~5 hours/month (Reasonable usage for a productivity tool if you leverage it well)\n*   **Headspace:** ₹500/year (approx. ₹41.67/month), **~1 hour/month**\n\n**Where you might be wasting money:**\n\nBased on your usage, **Headspace** stands out as an underutilized subscription. You're spending ₹41.67 per month for only about 1 hour of usage.\n\n*   **Recommendation:** Consider **cancelling your Headspace subscription**.\n*   **Potential Savings:** By cancelling Headspace, you could save **₹41.67 per month** (or ₹500 annually).\n\n### Prioritization and Where to Save Money\n\nHere’s how to prioritize your financial goals and where to allocate your savings:\n\n1.  **Emergency Fund (Highest Priority):**\n    *   **Goal:** Build your emergency fund to **₹150,000**.\n    *   **Why:** This is paramount due to your moderate job stability and dependents. It provides security and peace of mind.\n    *   **Action:** Dedicate the **₹41.67/month you save from Headspace directly to your emergency fund**.\n    *   **Further Action:** Beyond the subscription savings, aim to save **₹12,500 per month** (or ₹3,125 per week) for this fund. This should be your primary savings focus until you hit the ₹150,000 target.\n\n2.  **Sri Lanka Trip (Second Priority):**\n    *   **Goal:** Save **₹42,000** for your trip.\n    *   **Why:** Once your emergency fund is growing steadily, or at least has a solid foundation (e.g., 3 months of expenses), you can accelerate your trip savings.\n    *   **Action:** Once your emergency fund is on track, allocate **₹2,070.42 per week** towards your Sri Lanka trip. You could consider splitting your savings between the two goals until your emergency fund is complete, but make sure to prioritize the emergency fund initially.\n\n**Here's a list of where you should save this money:**\n\n*   **Emergency Fund:** Open a separate, easily accessible savings account (like a high-yield savings account if available in India and suits your needs) for your emergency fund. This keeps it separate from your everyday spending and makes it less tempting to dip into.\n*   **Sri Lanka Trip:** Open another separate savings account specifically for your trip. This helps you visualize your progress and keeps the funds dedicated to their purpose.\n\n**Summary of Action Plan:**\n\n*   **Immediately:** Cancel your **Headspace** subscription to save **₹41.67/month**.\n*   **Allocate this ₹41.67/month to your Emergency Fund.**\n*   **Prioritize saving ₹12,500/month (or ₹3,125/week) for your Emergency Fund** until you reach ₹150,000.\n*   **Once your emergency fund is well on its way, or if you can manage both simultaneously, commit to saving ₹2,070.42/week for your Sri Lanka trip.**\n\nBy following these steps, you'll gain significant financial security and be well on your way to that dream trip to Sri Lanka!"
          },
          "metadata": {}
        }
      ]
    }
  ]
}